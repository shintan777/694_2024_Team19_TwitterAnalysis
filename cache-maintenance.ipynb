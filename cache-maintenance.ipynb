{
 "cells": [
  {
   "cell_type": "code",
   "execution_count": 1,
   "metadata": {},
   "outputs": [],
   "source": [
    "from pymongo import MongoClient"
   ]
  },
  {
   "cell_type": "code",
   "execution_count": null,
   "metadata": {},
   "outputs": [],
   "source": [
    "class TwitterSearchApp:\n",
    "    def __init__(self, max_cache_size=100):\n",
    "        self.max_cache_size = max_cache_size\n",
    "        self.cache = {}\n",
    "        self.client = MongoClient('mongodb://localhost:27017/')\n",
    "        self.cache_collection = self.client['twitter_db']['cache']\n",
    "\n",
    "    def load_cache_from_mongodb(self):\n",
    "        cache_data = self.cache_collection.find_one()\n",
    "        if cache_data:\n",
    "            self.cache = cache_data['cache']\n",
    "\n",
    "    def search_tweets(self, keyword):\n",
    "        if keyword in self.cache:\n",
    "            print(\"Result found in cache:\")\n",
    "            return self.cache[keyword]\n",
    "        else:\n",
    "            print(\"Searching in MongoDB:\")\n",
    "            # Placeholder for MongoDB query, replace with actual query to search for tweets\n",
    "            result = self.query_mongodb(keyword)\n",
    "            if len(self.cache) < self.max_cache_size:\n",
    "                self.cache[keyword] = result\n",
    "                self.cache_collection.update_one({}, {'$set': {'cache': self.cache}}, upsert=True)\n",
    "            return result\n",
    "\n",
    "    def query_mongodb(self, keyword):\n",
    "        # Placeholder for MongoDB query, replace with actual query to search for tweets\n",
    "        return f\"Dummy result for {keyword}\"\n",
    "\n",
    "    def shutdown(self):\n",
    "        self.cache_collection.update_one({}, {'$set': {'cache': self.cache}}, upsert=True)\n",
    "        self.client.close()\n",
    "\n",
    "# Example usage\n",
    "if __name__ == \"__main__\":\n",
    "    app = TwitterSearchApp(max_cache_size=10)\n",
    "    app.load_cache_from_mongodb()\n",
    "\n",
    "    # Example searches\n",
    "    print(app.search_tweets(\"python\"))\n",
    "    print(app.search_tweets(\"mongodb\"))\n",
    "    print(app.search_tweets(\"data science\"))\n",
    "\n",
    "    app.shutdown()"
   ]
  },
  {
   "cell_type": "code",
   "execution_count": 11,
   "metadata": {
    "tags": []
   },
   "outputs": [
    {
     "name": "stderr",
     "output_type": "stream",
     "text": [
      "[nltk_data] Downloading package punkt to\n",
      "[nltk_data]     /Users/mushirashaikh/nltk_data...\n",
      "[nltk_data]   Unzipping tokenizers/punkt.zip.\n",
      "[nltk_data] Downloading package stopwords to\n",
      "[nltk_data]     /Users/mushirashaikh/nltk_data...\n",
      "[nltk_data]   Unzipping corpora/stopwords.zip.\n"
     ]
    },
    {
     "data": {
      "text/plain": [
       "True"
      ]
     },
     "execution_count": 11,
     "metadata": {},
     "output_type": "execute_result"
    }
   ],
   "source": [
    "import nltk\n",
    "# nltk.download('punkt')\n",
    "# nltk.download('stopwords')"
   ]
  },
  {
   "cell_type": "code",
   "execution_count": 1,
   "metadata": {
    "tags": []
   },
   "outputs": [],
   "source": [
    "from app import mongo_db_connection\n",
    "from nltk.tokenize import word_tokenize\n",
    "from nltk.corpus import stopwords\n",
    "from collections import Counter\n"
   ]
  },
  {
   "cell_type": "code",
   "execution_count": 2,
   "metadata": {
    "tags": []
   },
   "outputs": [
    {
     "name": "stdout",
     "output_type": "stream",
     "text": [
      "Connected to MongoDB!\n"
     ]
    }
   ],
   "source": [
    "# Connect to MongoDB and fetch the collection\n",
    "mongo_client = mongo_db_connection()\n",
    "mongo_db = mongo_client.sample\n",
    "mongo_collection = mongo_db.tweets"
   ]
  },
  {
   "cell_type": "code",
   "execution_count": 7,
   "metadata": {
    "tags": []
   },
   "outputs": [
    {
     "name": "stdout",
     "output_type": "stream",
     "text": [
      "[('https', 13048), ('corona', 10474), ('virus', 2248), ('de', 1718), ('die', 1105), ('que', 831), ('la', 777), ('bu', 702), ('en', 655), ('der', 625)]\n"
     ]
    }
   ],
   "source": [
    "def get_top_10_keywords():\n",
    "# parse through each tweet and maintain a dict of top 10 keywords\n",
    "    # Retrieve all tweets\n",
    "    tweets = mongo_collection.find({}, {\"text\": 1})\n",
    "    # print(len(list(tweets)))\n",
    "    \n",
    "    # Define stopwords - words to ignore\n",
    "    stop_words = set(stopwords.words('english'))\n",
    "    \n",
    "\n",
    "    # Count occurrences of each keyword in all tweets\n",
    "    keyword_count = Counter()\n",
    "    for tweet in tweets:\n",
    "        text = tweet[\"text\"]\n",
    "        keywords = extract_keywords(text, stop_words)\n",
    "        keyword_count.update(keywords)\n",
    "\n",
    "    # Get top 10 keywords\n",
    "    return keyword_count.most_common(10)\n",
    "\n",
    "\n",
    "print(get_top_10_keywords())"
   ]
  },
  {
   "cell_type": "code",
   "execution_count": 6,
   "metadata": {
    "tags": []
   },
   "outputs": [],
   "source": [
    "# Define function to process text and extract keywords\n",
    "def extract_keywords(text, stop_words):\n",
    "    tokens = word_tokenize(text.lower())  # Tokenize text\n",
    "    filtered_tokens = [word for word in tokens if word.isalnum() and word not in stop_words]  # Remove stopwords and non-alphanumeric tokens\n",
    "    return filtered_tokens"
   ]
  },
  {
   "cell_type": "code",
   "execution_count": null,
   "metadata": {},
   "outputs": [],
   "source": []
  }
 ],
 "metadata": {
  "kernelspec": {
   "display_name": "Python 3 (ipykernel)",
   "language": "python",
   "name": "python3"
  },
  "language_info": {
   "codemirror_mode": {
    "name": "ipython",
    "version": 3
   },
   "file_extension": ".py",
   "mimetype": "text/x-python",
   "name": "python",
   "nbconvert_exporter": "python",
   "pygments_lexer": "ipython3",
   "version": "3.11.5"
  }
 },
 "nbformat": 4,
 "nbformat_minor": 4
}
